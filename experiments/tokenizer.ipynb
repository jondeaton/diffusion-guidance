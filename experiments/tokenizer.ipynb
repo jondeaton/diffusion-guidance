{
 "cells": [
  {
   "cell_type": "code",
   "execution_count": 3,
   "id": "7a2b2b03-9495-4a41-a890-3d3ce82b8160",
   "metadata": {},
   "outputs": [],
   "source": [
    "import tokenizers"
   ]
  },
  {
   "cell_type": "code",
   "execution_count": 65,
   "id": "0519cee2-6074-44b3-91cb-5521287e346b",
   "metadata": {},
   "outputs": [],
   "source": [
    "tokenizer = tokenizers.Tokenizer(\n",
    "        tokenizers.models.WordLevel(\n",
    "            {\n",
    "                token: i\n",
    "                for i, token in enumerate(\n",
    "                    list(\"LAGVSERTIDPKQNFYMHWCXBUZO\") +\n",
    "                    list(\"?<>._-\")\n",
    "                )\n",
    "            },\n",
    "            unk_token=\"?\",\n",
    "        )\n",
    "    )\n",
    "tokenizer.pre_tokenizer = tokenizers.pre_tokenizers.Split(\n",
    "    tokenizers.Regex(\"[A-Z]\"), behavior=\"removed\", invert=True\n",
    ")"
   ]
  },
  {
   "cell_type": "code",
   "execution_count": 66,
   "id": "23d64605-bae0-4600-8485-8ac998ad4114",
   "metadata": {},
   "outputs": [
    {
     "data": {
      "text/plain": [
       "6"
      ]
     },
     "execution_count": 66,
     "metadata": {},
     "output_type": "execute_result"
    }
   ],
   "source": [
    "tokenizer.add_special_tokens(list(\"?<>._-\"))"
   ]
  },
  {
   "cell_type": "code",
   "execution_count": 67,
   "id": "9ba0a6d9-34fb-4989-89f3-0e83d9669d98",
   "metadata": {},
   "outputs": [],
   "source": [
    "tokenizer.post_processor = tokenizers.processors.TemplateProcessing(\n",
    "    single=\"$A\",  # < $A >\n",
    "    pair=None,\n",
    "    special_tokens=[(\"<\", 26), (\">\", 27)],\n",
    ")"
   ]
  },
  {
   "cell_type": "code",
   "execution_count": 68,
   "id": "54946f9c-fd2b-49fa-b819-212c2c57af60",
   "metadata": {},
   "outputs": [
    {
     "data": {
      "text/plain": [
       "[0,\n",
       " 1,\n",
       " 2,\n",
       " 3,\n",
       " 4,\n",
       " 5,\n",
       " 6,\n",
       " 7,\n",
       " 8,\n",
       " 9,\n",
       " 10,\n",
       " 11,\n",
       " 12,\n",
       " 13,\n",
       " 14,\n",
       " 15,\n",
       " 16,\n",
       " 17,\n",
       " 18,\n",
       " 19,\n",
       " 20,\n",
       " 21,\n",
       " 22,\n",
       " 23,\n",
       " 24]"
      ]
     },
     "execution_count": 68,
     "metadata": {},
     "output_type": "execute_result"
    }
   ],
   "source": [
    "tokenizer.encode('LAGVSERTIDPKQNFYMHWCXBUZO').ids"
   ]
  },
  {
   "cell_type": "code",
   "execution_count": null,
   "id": "93bf2470-96b2-4d0b-b01e-0bca55a5f080",
   "metadata": {},
   "outputs": [],
   "source": []
  }
 ],
 "metadata": {
  "kernelspec": {
   "display_name": "Python 3 (ipykernel)",
   "language": "python",
   "name": "python3"
  },
  "language_info": {
   "codemirror_mode": {
    "name": "ipython",
    "version": 3
   },
   "file_extension": ".py",
   "mimetype": "text/x-python",
   "name": "python",
   "nbconvert_exporter": "python",
   "pygments_lexer": "ipython3",
   "version": "3.11.5"
  }
 },
 "nbformat": 4,
 "nbformat_minor": 5
}
